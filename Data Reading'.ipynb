{
 "cells": [
  {
   "cell_type": "code",
   "execution_count": 5,
   "metadata": {},
   "outputs": [],
   "source": [
    "import pandas as pd\n",
    "\n",
    "def create_df_fake(file):\n",
    "    with open (file, 'rt') as in_file:\n",
    "        title=[]\n",
    "        content=[]\n",
    "        word1 = \"'Title':\"\n",
    "        word2 =\"'Image'\"\n",
    "\n",
    "        cword1 = \"'Content':\"\n",
    "        cword2= \"'Link':\"# Open file lorem.txt for reading of text data.\n",
    "        for line in in_file: # Store each line in a string variable \"line\"\n",
    "            a=line.find(word1)\n",
    "            b=line.find(word2)\n",
    "            c=line.find(cword1)\n",
    "            d=line.find(cword2)\n",
    "\n",
    "            title.append(line[a+8:b])\n",
    "            content.append(line[c+10:d])\n",
    "        df = pd.DataFrame()\n",
    "        df['Title'] = title\n",
    "        df['Content'] = content\n",
    "    return df\n",
    "        \n"
   ]
  },
  {
   "cell_type": "code",
   "execution_count": 6,
   "metadata": {},
   "outputs": [],
   "source": [
    "def create_df_real(file):\n",
    "    with open ('Real.txt', 'rt') as in_file:\n",
    "        title=[]\n",
    "        content=[]\n",
    "        word1 = \"u'title_full':\"\n",
    "        word2 =\", u'spam_score':\"\n",
    "\n",
    "        cword1 = \"u'text':\"\n",
    "        cword2= \", u'img_tags'\"# Open file lorem.txt for reading of text data.\n",
    "        for line in in_file: # Store each line in a string variable \"line\"\n",
    "            a=line.find(word1)\n",
    "            b=line.find(word2)\n",
    "            c=line.find(cword1)\n",
    "            d=line.find(cword2)\n",
    "\n",
    "            title.append(line[a+17:b])\n",
    "            content.append(line[c+11:d])\n",
    "            df = pd.DataFrame()\n",
    "        df['Title'] = title\n",
    "        df['Content'] = content\n",
    "    return df\n",
    "   "
   ]
  },
  {
   "cell_type": "code",
   "execution_count": 7,
   "metadata": {},
   "outputs": [],
   "source": [
    "fake = create_df_fake('Fake.txt')\n",
    "real = create_df_real('Real.txt')"
   ]
  },
  {
   "cell_type": "code",
   "execution_count": 8,
   "metadata": {},
   "outputs": [
    {
     "data": {
      "text/html": [
       "<div>\n",
       "<style scoped>\n",
       "    .dataframe tbody tr th:only-of-type {\n",
       "        vertical-align: middle;\n",
       "    }\n",
       "\n",
       "    .dataframe tbody tr th {\n",
       "        vertical-align: top;\n",
       "    }\n",
       "\n",
       "    .dataframe thead th {\n",
       "        text-align: right;\n",
       "    }\n",
       "</style>\n",
       "<table border=\"1\" class=\"dataframe\">\n",
       "  <thead>\n",
       "    <tr style=\"text-align: right;\">\n",
       "      <th></th>\n",
       "      <th>Title</th>\n",
       "      <th>Content</th>\n",
       "    </tr>\n",
       "  </thead>\n",
       "  <tbody>\n",
       "    <tr>\n",
       "      <th>0</th>\n",
       "      <td>\"\\nWas a Zambian Man Arrested After Boasting ...</td>\n",
       "      <td>'A Zambian man has been arrested by authoriti...</td>\n",
       "    </tr>\n",
       "    <tr>\n",
       "      <th>1</th>\n",
       "      <td>'\\nDid London\\xe2\\x80\\x99s Mayor Encourage Mu...</td>\n",
       "      <td>'\\nLondon Muslim mayor incited Islamic-based ...</td>\n",
       "    </tr>\n",
       "    <tr>\n",
       "      <th>2</th>\n",
       "      <td>\"\\nIs Sarah Huckabee Sanders Being Replaced?\\...</td>\n",
       "      <td>'\\nRumor has it that Sarah Huckabee Sanders h...</td>\n",
       "    </tr>\n",
       "    <tr>\n",
       "      <th>3</th>\n",
       "      <td>'\\nDid a Spider in a Tampon Result in a Distu...</td>\n",
       "      <td>'So, now here I am sitting on the toilet with...</td>\n",
       "    </tr>\n",
       "    <tr>\n",
       "      <th>4</th>\n",
       "      <td>'\\nDid Melania Hit Donald Trump with a \\xe2\\x...</td>\n",
       "      <td>'\\nDonald does his best to play nice with his...</td>\n",
       "    </tr>\n",
       "  </tbody>\n",
       "</table>\n",
       "</div>"
      ],
      "text/plain": [
       "                                               Title  \\\n",
       "0   \"\\nWas a Zambian Man Arrested After Boasting ...   \n",
       "1   '\\nDid London\\xe2\\x80\\x99s Mayor Encourage Mu...   \n",
       "2   \"\\nIs Sarah Huckabee Sanders Being Replaced?\\...   \n",
       "3   '\\nDid a Spider in a Tampon Result in a Distu...   \n",
       "4   '\\nDid Melania Hit Donald Trump with a \\xe2\\x...   \n",
       "\n",
       "                                             Content  \n",
       "0   'A Zambian man has been arrested by authoriti...  \n",
       "1   '\\nLondon Muslim mayor incited Islamic-based ...  \n",
       "2   '\\nRumor has it that Sarah Huckabee Sanders h...  \n",
       "3   'So, now here I am sitting on the toilet with...  \n",
       "4   '\\nDonald does his best to play nice with his...  "
      ]
     },
     "execution_count": 8,
     "metadata": {},
     "output_type": "execute_result"
    }
   ],
   "source": [
    "fake.head()"
   ]
  },
  {
   "cell_type": "code",
   "execution_count": 9,
   "metadata": {},
   "outputs": [
    {
     "data": {
      "text/html": [
       "<div>\n",
       "<style scoped>\n",
       "    .dataframe tbody tr th:only-of-type {\n",
       "        vertical-align: middle;\n",
       "    }\n",
       "\n",
       "    .dataframe tbody tr th {\n",
       "        vertical-align: top;\n",
       "    }\n",
       "\n",
       "    .dataframe thead th {\n",
       "        text-align: right;\n",
       "    }\n",
       "</style>\n",
       "<table border=\"1\" class=\"dataframe\">\n",
       "  <thead>\n",
       "    <tr style=\"text-align: right;\">\n",
       "      <th></th>\n",
       "      <th>Title</th>\n",
       "      <th>Content</th>\n",
       "    </tr>\n",
       "  </thead>\n",
       "  <tbody>\n",
       "    <tr>\n",
       "      <th>0</th>\n",
       "      <td>Greece: 3 convicted in videotaped beating of m...</td>\n",
       "      <td>THESSALONIKI, Greece \\u2014 Three men have bee...</td>\n",
       "    </tr>\n",
       "    <tr>\n",
       "      <th>1</th>\n",
       "      <td>The Latest: Syria's Assad meets with Putin env...</td>\n",
       "      <td>BEIRUT \\u2014 The Latest on Syria developments...</td>\n",
       "    </tr>\n",
       "    <tr>\n",
       "      <th>2</th>\n",
       "      <td>Trump Gloats: 'Look How Things Turned Around o...</td>\n",
       "      <td>By Tyler Durden / ZeroHedge\\nContinuing his gl...</td>\n",
       "    </tr>\n",
       "    <tr>\n",
       "      <th>3</th>\n",
       "      <td>NFL owners adopt new policy to address anthem ...</td>\n",
       "      <td>Atlanta \\u2022 The NFL and the owners of its 3...</td>\n",
       "    </tr>\n",
       "    <tr>\n",
       "      <th>4</th>\n",
       "      <td>Days of Hate #5 review'</td>\n",
       "      <td>Days of Hate #5 review The Good, The Bad, and ...</td>\n",
       "    </tr>\n",
       "  </tbody>\n",
       "</table>\n",
       "</div>"
      ],
      "text/plain": [
       "                                               Title  \\\n",
       "0  Greece: 3 convicted in videotaped beating of m...   \n",
       "1  The Latest: Syria's Assad meets with Putin env...   \n",
       "2  Trump Gloats: 'Look How Things Turned Around o...   \n",
       "3  NFL owners adopt new policy to address anthem ...   \n",
       "4                            Days of Hate #5 review'   \n",
       "\n",
       "                                             Content  \n",
       "0  THESSALONIKI, Greece \\u2014 Three men have bee...  \n",
       "1  BEIRUT \\u2014 The Latest on Syria developments...  \n",
       "2  By Tyler Durden / ZeroHedge\\nContinuing his gl...  \n",
       "3  Atlanta \\u2022 The NFL and the owners of its 3...  \n",
       "4  Days of Hate #5 review The Good, The Bad, and ...  "
      ]
     },
     "execution_count": 9,
     "metadata": {},
     "output_type": "execute_result"
    }
   ],
   "source": [
    "real.head()"
   ]
  },
  {
   "cell_type": "code",
   "execution_count": null,
   "metadata": {},
   "outputs": [],
   "source": []
  }
 ],
 "metadata": {
  "kernelspec": {
   "display_name": "Python 3",
   "language": "python",
   "name": "python3"
  },
  "language_info": {
   "codemirror_mode": {
    "name": "ipython",
    "version": 3
   },
   "file_extension": ".py",
   "mimetype": "text/x-python",
   "name": "python",
   "nbconvert_exporter": "python",
   "pygments_lexer": "ipython3",
   "version": "3.6.5"
  }
 },
 "nbformat": 4,
 "nbformat_minor": 2
}
